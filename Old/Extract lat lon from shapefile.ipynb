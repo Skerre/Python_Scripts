{
 "cells": [
  {
   "cell_type": "code",
   "execution_count": null,
   "id": "fa84b013",
   "metadata": {},
   "outputs": [],
   "source": [
    "### get lat lon from polygon\n",
    "\n",
    "import geopandas as gpd\n",
    "\n",
    "# soa_shape_map_geo = soa_shape_map.to_crs(epsg=4326)  # EPSG 4326 = WGS84 = https://epsg.io/4326\n",
    "print(soa_shape_map.iloc[0].geometry.centroid.y, soa_shape_map_geo.iloc[0].geometry.centroid.y)"
   ]
  },
  {
   "cell_type": "code",
   "execution_count": null,
   "id": "2d8253a2",
   "metadata": {},
   "outputs": [],
   "source": [
    "import geopandas as gpd\n",
    "shp = gpd.read_file(r\"C:\\Users\\martin.szigeti\\Documents\\UN Work\\social vulnerability index\\Notebooks\\Data\\Albania\\Shapefiles/simplified.shp\")\n"
   ]
  },
  {
   "cell_type": "code",
   "execution_count": null,
   "id": "adadea86",
   "metadata": {},
   "outputs": [],
   "source": [
    "points = []\n",
    "for polygon in shp.geometry:\n",
    "    points.extend(polygon.exterior.coords[:-1])"
   ]
  },
  {
   "cell_type": "code",
   "execution_count": null,
   "id": "f682914b",
   "metadata": {},
   "outputs": [],
   "source": [
    "shp.explode()"
   ]
  },
  {
   "cell_type": "code",
   "execution_count": null,
   "id": "3a825459",
   "metadata": {},
   "outputs": [],
   "source": [
    "shp = shp.explode()\n"
   ]
  },
  {
   "cell_type": "code",
   "execution_count": 130,
   "id": "66f22644",
   "metadata": {},
   "outputs": [],
   "source": [
    "points = []\n",
    "for polygon in shp.geometry:\n",
    "    points.extend(polygon.exterior.coords[:-1])\n",
    "list_of_lists = [list(elem) for elem in points]"
   ]
  },
  {
   "cell_type": "code",
   "execution_count": null,
   "id": "2d99ee04",
   "metadata": {},
   "outputs": [],
   "source": [
    "list_of_lists"
   ]
  },
  {
   "cell_type": "code",
   "execution_count": null,
   "id": "26f6290d",
   "metadata": {},
   "outputs": [],
   "source": [
    "import copy\n",
    "copyl = copy.deepcopy(list_of_lists)\n",
    "for i in range(len(list_of_lists)):\n",
    "    copyl[i][0] = list_of_lists[i][1]\n",
    "    copyl[i][1] = list_of_lists[i][0]"
   ]
  },
  {
   "cell_type": "code",
   "execution_count": 138,
   "id": "7a5ae4d7",
   "metadata": {},
   "outputs": [
    {
     "data": {
      "text/plain": [
       "14.0"
      ]
     },
     "execution_count": 138,
     "metadata": {},
     "output_type": "execute_result"
    }
   ],
   "source": [
    "(676 + 108)**0.5 / 2"
   ]
  }
 ],
 "metadata": {
  "kernelspec": {
   "display_name": "Python 3",
   "language": "python",
   "name": "python3"
  },
  "language_info": {
   "codemirror_mode": {
    "name": "ipython",
    "version": 3
   },
   "file_extension": ".py",
   "mimetype": "text/x-python",
   "name": "python",
   "nbconvert_exporter": "python",
   "pygments_lexer": "ipython3",
   "version": "3.8.10"
  }
 },
 "nbformat": 4,
 "nbformat_minor": 5
}

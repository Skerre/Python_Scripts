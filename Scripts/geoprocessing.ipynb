{
 "cells": [
  {
   "cell_type": "code",
   "execution_count": 1,
   "id": "f8037694",
   "metadata": {},
   "outputs": [],
   "source": [
    "import raster_processing as rp"
   ]
  },
  {
   "cell_type": "code",
   "execution_count": 6,
   "id": "3fcf5e3f",
   "metadata": {},
   "outputs": [],
   "source": [
    "import osgeo_utils.gdal_merge as gm\n",
    "from osgeo import gdal\n",
    "import os\n",
    "import glob\n",
    "import subprocess\n",
    "import rasterio\n",
    "import geopandas as gpd"
   ]
  },
  {
   "cell_type": "code",
   "execution_count": 45,
   "id": "59515e03",
   "metadata": {},
   "outputs": [],
   "source": [
    "path = r\"C:\\Users\\martin.szigeti\\Documents\\GitHub\\Python_Scripts/raster_input/\""
   ]
  },
  {
   "cell_type": "code",
   "execution_count": 6,
   "id": "62829579",
   "metadata": {},
   "outputs": [],
   "source": [
    "rp.merge(path)"
   ]
  },
  {
   "cell_type": "code",
   "execution_count": null,
   "id": "520b5aa5",
   "metadata": {},
   "outputs": [],
   "source": [
    "rp.rescale(path, scalefactor = 0.1)"
   ]
  },
  {
   "cell_type": "code",
   "execution_count": null,
   "id": "79415eb6",
   "metadata": {},
   "outputs": [],
   "source": [
    "rp.clip_all(path, [-2.737611568,12.947672648,-1.409412472,11.725729480])"
   ]
  },
  {
   "cell_type": "code",
   "execution_count": 23,
   "id": "54df86a2",
   "metadata": {},
   "outputs": [
    {
     "name": "stdout",
     "output_type": "stream",
     "text": [
      "No Shapefile\n"
     ]
    }
   ],
   "source": [
    "test = rp.pointsampling(path)"
   ]
  },
  {
   "cell_type": "code",
   "execution_count": 8,
   "id": "838c5607",
   "metadata": {},
   "outputs": [],
   "source": [
    "test.to_csv(\"test.csv\")"
   ]
  },
  {
   "cell_type": "code",
   "execution_count": 46,
   "id": "eec0d3ef",
   "metadata": {},
   "outputs": [],
   "source": [
    "import os\n",
    "import glob\n",
    "from osgeo import gdal\n",
    "os.chdir(path)\n",
    "files = glob.glob(path + \"*tif\")\n",
    "dims = []\n",
    "for file in files:\n",
    "    src = gdal.Open(file)\n",
    "    dims.append([src.RasterXSize, src.RasterYSize])\n",
    "    src = None"
   ]
  },
  {
   "cell_type": "code",
   "execution_count": null,
   "id": "47ad090c",
   "metadata": {},
   "outputs": [],
   "source": [
    "for n in range(10):\n",
    "    100*(1+(0.12/n+1))"
   ]
  },
  {
   "cell_type": "code",
   "execution_count": 69,
   "id": "dbc1219a",
   "metadata": {},
   "outputs": [
    {
     "data": {
      "text/plain": [
       "0.00011999999999999999"
      ]
     },
     "execution_count": 69,
     "metadata": {},
     "output_type": "execute_result"
    }
   ],
   "source": [
    "0.12/1000"
   ]
  }
 ],
 "metadata": {
  "kernelspec": {
   "display_name": "Python 3",
   "language": "python",
   "name": "python3"
  },
  "language_info": {
   "codemirror_mode": {
    "name": "ipython",
    "version": 3
   },
   "file_extension": ".py",
   "mimetype": "text/x-python",
   "name": "python",
   "nbconvert_exporter": "python",
   "pygments_lexer": "ipython3",
   "version": "3.8.10"
  }
 },
 "nbformat": 4,
 "nbformat_minor": 5
}

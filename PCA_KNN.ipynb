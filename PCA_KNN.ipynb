{
 "cells": [
  {
   "cell_type": "code",
   "execution_count": 17,
   "id": "0986f2da",
   "metadata": {},
   "outputs": [
    {
     "name": "stdout",
     "output_type": "stream",
     "text": [
      "Number of points in the dataset =  709\n"
     ]
    },
    {
     "data": {
      "image/png": "[encoded data removed]",
      "text/plain": [
       "<Figure size 432x288 with 1 Axes>"
      ]
     },
     "metadata": {},
     "output_type": "display_data"
    },
    {
     "name": "stdout",
     "output_type": "stream",
     "text": [
      "Explained variation per principal component: [0.45224168 0.22687826 0.08474925]\n",
      "Accuracy of Model =  0.6666666666666666\n"
     ]
    }
   ],
   "source": [
    "# Import Packages\n",
    "\n",
    "import numpy as np\n",
    "import pandas as pd\n",
    "from sklearn.model_selection import train_test_split\n",
    "from sklearn.neighbors import KNeighborsClassifier\n",
    "from sklearn.ensemble import RandomForestClassifier\n",
    "from sklearn.preprocessing import minmax_scale\n",
    "import matplotlib.pyplot as plt\n",
    "import seaborn as sns\n",
    "from sklearn.decomposition import PCA\n",
    "\n",
    "# Import Data\n",
    "\n",
    "data = pd.read_csv(r\"C:\\Users\\martin.szigeti\\Documents\\UN Work\\social vulnerability index/SV_Raster_training.csv\")  # taken as clean\n",
    "data['LATNUM'] = data['LATNUM'].astype(float)\n",
    "pd.set_option(\"display.max_columns\", None)\n",
    "data = data.drop('geometry', axis=1)  # drop geometry // unsure how to use data\n",
    "data = data.drop('Unnamed: 0', axis=1)  # already indexed\n",
    "data = data.drop('DHSCLUST', axis=1)  # cluster (interview) label\n",
    "data = data.dropna()\n",
    "\n",
    "'''\n",
    "Task: Predict which bucket (SV Score range) new data (group) should fit into\n",
    "Purpose: Following calculation of SV for new group, this model would run in the background to check the score fits into \n",
    "the predicted bucket.\n",
    "Justification: Statement about how for certain groups incorrect scores (with significant error)\n",
    "have been calculated using current tool. \n",
    "\n",
    "\n",
    "'''\n",
    "\n",
    "\n",
    "def knn_classification(df):\n",
    "    \"\"\"\n",
    "\n",
    "    Bucket target variable into bins, define and scale Features\n",
    "\n",
    "    \"\"\"\n",
    "\n",
    "    print(\"Number of points in the dataset = \", len(df))\n",
    "\n",
    "    # Buckets work as follows:\n",
    "    # SV score X such that -20 < X < -15 has Label = -20\n",
    "    df['target_bin'] = pd.cut(df['SV'], [-20, -15, -10, -5, 0, 5, 10, 15, 20], labels=['-20', '-15', '-10', '-5', '0',\n",
    "                                                                                       '5', '10', '15'])\n",
    "    # Define Features\n",
    "    # 'road', (Feature removed)\n",
    "    features = ['water', 'ntl', 'ndvi', 'health', 'finan', 'elev', 'edu', 'coast']\n",
    "\n",
    "    # Scale Features between 0-1\n",
    "    df[features] = minmax_scale(df[features])\n",
    "\n",
    "    \"\"\"\n",
    "\n",
    "    Feature Importance using Random Forest Classifiers \n",
    "    STATUS: RUN --> Removal of Feature 'road'\n",
    "\n",
    "    \"\"\"\n",
    "\n",
    "    X = df[features]\n",
    "    y = df['target_bin']\n",
    "\n",
    "    # Split into training and test sets\n",
    "    X_train, X_test, y_train, y_test = train_test_split(\n",
    "        X, y, test_size=0.1, random_state=42)\n",
    "\n",
    "    # Model and Feature Importance Results\n",
    "    rf_model = RandomForestClassifier()\n",
    "    rf_model.fit(X_train, y_train)\n",
    "\n",
    "    feature_df = pd.DataFrame({\"Importance\": rf_model.feature_importances_,\n",
    "                               \"Features\": features})\n",
    "    sns.set()\n",
    "    plt.bar(feature_df[\"Features\"], feature_df[\"Importance\"])\n",
    "    plt.xticks(rotation=90)\n",
    "    plt.title(\"Random Forest Model Feature Importance\")\n",
    "    plt.show()\n",
    "\n",
    "    \"\"\"\n",
    "\n",
    "    PCA Reduction\n",
    "\n",
    "    \"\"\"\n",
    "\n",
    "    x1 = df[features].values\n",
    "\n",
    "    pca_svcc = PCA(n_components=3)  # svcc \"Social Vulnerability Calculation Check\"\n",
    "    principalComponents_svcc = pca_svcc.fit_transform(x1)\n",
    "\n",
    "    pca_Df = pd.DataFrame(data=principalComponents_svcc\n",
    "                          , columns=['principal component 1', 'principal component 2', 'principal component 3'])\n",
    "\n",
    "    print('Explained variation per principal component: {}'.format(pca_svcc.explained_variance_ratio_))\n",
    "\n",
    "    \"\"\"\n",
    "\n",
    "    Prediction Model\n",
    "\n",
    "    \"\"\"\n",
    "\n",
    "    x = pca_Df[['principal component 1', 'principal component 2', 'principal component 3']]\n",
    "\n",
    "    # Split into training and test sets\n",
    "    x_train, x_test, y_train, y_test = train_test_split(\n",
    "        x, y, test_size=0.02, random_state=42)\n",
    "\n",
    "    knn = KNeighborsClassifier(n_neighbors=6, weights='distance', algorithm='auto', leaf_size=15, p=2,\n",
    "                               metric='minkowski', metric_params=None, n_jobs=None)\n",
    "\n",
    "    knn.fit(x_train, y_train)\n",
    "\n",
    "    # Predict on dataset which model has not seen before\n",
    "    prediction = knn.predict(x_test)\n",
    "\n",
    "    # Calculate the accuracy of the model\n",
    "    prediction = pd.DataFrame(prediction, columns=['prediction'])\n",
    "    y_test = y_test.reset_index()\n",
    "    y_test = y_test.drop(['index'], axis=1)\n",
    "    result = pd.concat([prediction, y_test], axis=1, ignore_index=False, names=['prediction', 'y_test'])\n",
    "    result['accuracy'] = np.where(result['prediction'] != result['target_bin'], 0, 1)\n",
    "    print(\"Accuracy of Model = \", result['accuracy'].sum() / len(result))\n",
    "\n",
    "    return(knn)\n",
    "\n",
    "#  RUN knn_classification\n",
    "\n",
    "model = knn_classification(data)"
   ]
  },
  {
   "cell_type": "code",
   "execution_count": 11,
   "id": "d527da1b",
   "metadata": {},
   "outputs": [
    {
     "data": {
      "text/plain": [
       "['0', '-5', '5', '-10', '10', '15', '-15']\n",
       "Categories (7, object): ['-15' < '-10' < '-5' < '0' < '5' < '10' < '15']"
      ]
     },
     "execution_count": 11,
     "metadata": {},
     "output_type": "execute_result"
    }
   ],
   "source": [
    "data[\"target_bin\"].unique()"
   ]
  },
  {
   "cell_type": "code",
   "execution_count": null,
   "id": "6b865c23",
   "metadata": {},
   "outputs": [],
   "source": [
    "data"
   ]
  },
  {
   "cell_type": "code",
   "execution_count": 18,
   "id": "59440dc9",
   "metadata": {},
   "outputs": [
    {
     "data": {
      "text/plain": [
       "KNeighborsClassifier(leaf_size=15, n_neighbors=6, weights='distance')"
      ]
     },
     "execution_count": 18,
     "metadata": {},
     "output_type": "execute_result"
    }
   ],
   "source": [
    "model()"
   ]
  },
  {
   "cell_type": "code",
   "execution_count": 23,
   "id": "988fc3cc",
   "metadata": {},
   "outputs": [],
   "source": [
    "import rasterio as rio\n",
    "\n",
    "with rio.open(r\"C:\\Users\\martin.szigeti\\Documents\\UN Work\\social vulnerability index\\Notebooks\\Data\\Albania\\merged/merged.tif\") as src:\n",
    "    raster = src.read()\n",
    "#   raster = raster[:, 400:2900, 200:1500]\n",
    "    rasterdf = pd.DataFrame(raster.reshape([9,-1]).T)\n",
    "    rasterdf.columns = [\"coast\",\"ndvi\",\"edu\",\"elev\",\"finan\",\"health\",\"ntl\",\"road\",\"water\"]"
   ]
  },
  {
   "cell_type": "code",
   "execution_count": 26,
   "id": "5366a359",
   "metadata": {},
   "outputs": [],
   "source": [
    "from sklearn.preprocessing import MinMaxScaler\n",
    "rasterdf_scaled = MinMaxScaler().fit_transform(rasterdf)\n",
    "rasterdf_scaled = pd.DataFrame(rasterdf_scaled, index = rasterdf.index, columns = rasterdf.columns)\n",
    "# rasterdf_scaled2 = StandardScaler().fit_transform(rasterdf)\n",
    "# rasterdf_scaled2 = pd.DataFrame(rasterdf_scaled2, index = rasterdf.index, columns = rasterdf.columns)"
   ]
  },
  {
   "cell_type": "code",
   "execution_count": null,
   "id": "1e39db90",
   "metadata": {},
   "outputs": [],
   "source": [
    "pred = model.predict()"
   ]
  },
  {
   "cell_type": "code",
   "execution_count": 29,
   "id": "a5537ec8",
   "metadata": {},
   "outputs": [],
   "source": [
    "features = ['water', 'ntl', 'ndvi', 'health', 'finan', 'elev', 'edu', 'coast']\n",
    "x1 = rasterdf[features].values\n",
    "pca_svcc = PCA(n_components=3)  # svcc \"Social Vulnerability Calculation Check\"\n",
    "principalComponents_svcc = pca_svcc.fit_transform(x1)\n",
    "pca_Df = pd.DataFrame(data=principalComponents_svcc\n",
    "                      ,columns=['principal component 1', 'principal component 2', 'principal component 3'])\n",
    "x = pca_Df[['principal component 1', 'principal component 2', 'principal component 3']]\n",
    "prediction = model.predict(x)"
   ]
  },
  {
   "cell_type": "code",
   "execution_count": 33,
   "id": "ba2e7cac",
   "metadata": {},
   "outputs": [
    {
     "data": {
      "text/plain": [
       "(5356020,)"
      ]
     },
     "execution_count": 33,
     "metadata": {},
     "output_type": "execute_result"
    }
   ],
   "source": [
    "prediction.shape"
   ]
  },
  {
   "cell_type": "code",
   "execution_count": 37,
   "id": "bc42a94e",
   "metadata": {},
   "outputs": [],
   "source": [
    "def arraytoraster(outname,array):\n",
    "    import os\n",
    "    from osgeo import gdal\n",
    "    # This is our reference file for metadata for good measure\n",
    "    rast_src = gdal.Open(r\"C:\\Users\\martin.szigeti\\Documents\\UN Work\\social vulnerability index\\Notebooks\\Data\\Albania\\merged/merged.tif\", 1) # 1 = read only\n",
    "    driver = gdal.GetDriverByName('GTiff')\n",
    "    if not os.path.exists('predictions'):\n",
    "        os.makedirs('predictions')\n",
    "    dataset = driver.Create(\"predictions/\"+ outname, rast_src.RasterXSize, rast_src.RasterYSize, 1, gdal.GDT_Float32)\n",
    "    print(\"X size merged: \",rast_src.RasterXSize)\n",
    "    print(\"Y size merged: \",rast_src.RasterYSize)\n",
    "    # we need to check if the values are in the correct format, some predictors spit out their prediction in some awkward format\n",
    "    if isinstance(array,pd.Series):\n",
    "        print(\"true\")\n",
    "        array = np.asarray(array).reshape(rast_src.RasterXSize,rast_src.RasterYSize)\n",
    "    dataset.GetRasterBand(1).WriteArray(array.reshape(rast_src.RasterYSize,rast_src.RasterXSize))\n",
    "\n",
    "    # follow code is adding GeoTranform and Projection\n",
    "    geotrans=rast_src.GetGeoTransform()  #get GeoTranform from existed 'data0'\n",
    "    proj=rast_src.GetProjection() #you can get from a exsited tif or import \n",
    "    dataset.SetGeoTransform(geotrans)\n",
    "    dataset.SetProjection(proj)\n",
    "    dataset.FlushCache()\n",
    "    dataset=None"
   ]
  },
  {
   "cell_type": "code",
   "execution_count": 38,
   "id": "7f1bad65",
   "metadata": {},
   "outputs": [
    {
     "name": "stdout",
     "output_type": "stream",
     "text": [
      "X size merged:  1780\n",
      "Y size merged:  3009\n"
     ]
    }
   ],
   "source": [
    "arraytoraster(\"lol.tif\",prediction)"
   ]
  },
  {
   "cell_type": "code",
   "execution_count": null,
   "id": "af652941",
   "metadata": {},
   "outputs": [],
   "source": []
  }
 ],
 "metadata": {
  "kernelspec": {
   "display_name": "Python 3",
   "language": "python",
   "name": "python3"
  },
  "language_info": {
   "codemirror_mode": {
    "name": "ipython",
    "version": 3
   },
   "file_extension": ".py",
   "mimetype": "text/x-python",
   "name": "python",
   "nbconvert_exporter": "python",
   "pygments_lexer": "ipython3",
   "version": "3.8.10"
  }
 },
 "nbformat": 4,
 "nbformat_minor": 5
}
